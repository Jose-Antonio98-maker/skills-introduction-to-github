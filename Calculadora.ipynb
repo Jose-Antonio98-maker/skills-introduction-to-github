{
  "nbformat": 4,
  "nbformat_minor": 0,
  "metadata": {
    "colab": {
      "provenance": [],
      "authorship_tag": "ABX9TyPzHcS3lIOPShi6lTb6YaJN",
      "include_colab_link": true
    },
    "kernelspec": {
      "name": "python3",
      "display_name": "Python 3"
    },
    "language_info": {
      "name": "python"
    }
  },
  "cells": [
    {
      "cell_type": "markdown",
      "metadata": {
        "id": "view-in-github",
        "colab_type": "text"
      },
      "source": [
        "<a href=\"https://colab.research.google.com/github/Jose-Antonio98-maker/skills-introduction-to-github/blob/main/Calculadora.ipynb\" target=\"_parent\"><img src=\"https://colab.research.google.com/assets/colab-badge.svg\" alt=\"Open In Colab\"/></a>"
      ]
    },
    {
      "cell_type": "code",
      "execution_count": 14,
      "metadata": {
        "colab": {
          "base_uri": "https://localhost:8080/"
        },
        "id": "U2pUKdJzgf1B",
        "outputId": "cbee26cd-0e3a-4b16-f9e8-c5b0f6e498b0"
      },
      "outputs": [
        {
          "output_type": "execute_result",
          "data": {
            "text/plain": [
              "7"
            ]
          },
          "metadata": {},
          "execution_count": 14
        }
      ],
      "source": [
        "def suma(a, b):\n",
        "  resultado = a + b\n",
        "  return resultado\n",
        "\n",
        "def resta(a, b):\n",
        "  resultado_resta = a - b\n",
        "  return resultado_resta\n",
        "\n",
        "def multiplicacion(a, b):\n",
        "  resultado_mult = a * b\n",
        "  return resultado_mult\n",
        "\n",
        "resta (3,4)\n",
        "multiplicacion (3,4)\n",
        "suma (3,4)\n"
      ]
    }
  ]
}