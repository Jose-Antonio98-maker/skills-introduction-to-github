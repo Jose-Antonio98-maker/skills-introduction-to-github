{
  "nbformat": 4,
  "nbformat_minor": 0,
  "metadata": {
    "colab": {
      "provenance": [],
      "authorship_tag": "ABX9TyP2GB2VQH2gI5wDzEb4MNKJ",
      "include_colab_link": true
    },
    "kernelspec": {
      "name": "python3",
      "display_name": "Python 3"
    },
    "language_info": {
      "name": "python"
    }
  },
  "cells": [
    {
      "cell_type": "markdown",
      "metadata": {
        "id": "view-in-github",
        "colab_type": "text"
      },
      "source": [
        "<a href=\"https://colab.research.google.com/github/Jose-Antonio98-maker/skills-introduction-to-github/blob/main/Proyecto1%20con%20squlite3.ipynb\" target=\"_parent\"><img src=\"https://colab.research.google.com/assets/colab-badge.svg\" alt=\"Open In Colab\"/></a>"
      ]
    },
    {
      "cell_type": "code",
      "execution_count": 18,
      "metadata": {
        "id": "PPEfHi752Rtw",
        "colab": {
          "base_uri": "https://localhost:8080/"
        },
        "outputId": "012c6097-29cf-41de-b02b-62220fb2e83a"
      },
      "outputs": [
        {
          "output_type": "stream",
          "name": "stdout",
          "text": [
            "(1, 'Juan Pérez', 1500.75)\n",
            "(2, 'Ana Rodríguez', 3200.5)\n"
          ]
        }
      ],
      "source": [
        "import sqlite3\n",
        "\n",
        "#crear o conectar con la base de datos\n",
        "conexion = sqlite3.connect(\"banco.db\")\n",
        "\n",
        "#crear un cursor para ejecutar comandos SQL\n",
        "cursor = conexion.cursor()\n",
        "\n",
        "conexion.commit()\n",
        "\n",
        "cursor.execute(\"PRAGMA journal_mode=WAL;\")\n",
        "conexion.commit()\n",
        "\n",
        "#Definimos una tabla de clientes con id, nombres y saldo\n",
        "cursor.execute(\"\"\"\n",
        "CREATE TABLE IF NOT EXISTS clientes (\n",
        "  id INTEGER PRIMARY KEY AUTOINCREMENT,\n",
        "  nombre TEXT NOT NULL UNIQUE,\n",
        "  saldo REAL NOT NULL\n",
        ")\n",
        "\"\"\")\n",
        "\n",
        "#Añadir registros de clientes\n",
        "cursor.execute(\"INSERT INTO clientes (nombre, saldo) VALUES (?, ?)\", (\"Juan Pérez\", 1500.75))\n",
        "cursor.execute(\"INSERT INTO clientes (nombre, saldo) VALUES (?, ?)\", (\"Ana Rodríguez\", 3200.50))\n",
        "\n",
        "\n",
        "#Consultar registros de clientes\n",
        "cursor.execute(\"SELECT * FROM clientes\")\n",
        "clientes = cursor.fetchall()\n",
        "for cliente in clientes:\n",
        "  print(cliente)\n",
        "\n",
        "conexion.close() #cerrar la conexión con la base de datos\n",
        "\n"
      ]
    },
    {
      "cell_type": "code",
      "source": [
        "cursor.execute(\"PRAGMA journal_mode=WAL;\")\n",
        "conexion.commit()"
      ],
      "metadata": {
        "colab": {
          "base_uri": "https://localhost:8080/",
          "height": 163
        },
        "id": "_t33O5qr6XxZ",
        "outputId": "f80b5970-79b7-4c53-a3c6-1f8156d8cf30"
      },
      "execution_count": 7,
      "outputs": [
        {
          "output_type": "error",
          "ename": "OperationalError",
          "evalue": "cannot change into wal mode from within a transaction",
          "traceback": [
            "\u001b[0;31m---------------------------------------------------------------------------\u001b[0m",
            "\u001b[0;31mOperationalError\u001b[0m                          Traceback (most recent call last)",
            "\u001b[0;32m<ipython-input-7-0f2d090685f6>\u001b[0m in \u001b[0;36m<cell line: 0>\u001b[0;34m()\u001b[0m\n\u001b[0;32m----> 1\u001b[0;31m \u001b[0mcursor\u001b[0m\u001b[0;34m.\u001b[0m\u001b[0mexecute\u001b[0m\u001b[0;34m(\u001b[0m\u001b[0;34m\"PRAGMA journal_mode=WAL;\"\u001b[0m\u001b[0;34m)\u001b[0m\u001b[0;34m\u001b[0m\u001b[0;34m\u001b[0m\u001b[0m\n\u001b[0m\u001b[1;32m      2\u001b[0m \u001b[0mconexion\u001b[0m\u001b[0;34m.\u001b[0m\u001b[0mcommit\u001b[0m\u001b[0;34m(\u001b[0m\u001b[0;34m)\u001b[0m\u001b[0;34m\u001b[0m\u001b[0;34m\u001b[0m\u001b[0m\n",
            "\u001b[0;31mOperationalError\u001b[0m: cannot change into wal mode from within a transaction"
          ]
        }
      ]
    }
  ]
}