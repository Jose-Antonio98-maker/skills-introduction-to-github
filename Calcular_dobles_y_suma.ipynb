{
  "nbformat": 4,
  "nbformat_minor": 0,
  "metadata": {
    "colab": {
      "provenance": [],
      "authorship_tag": "ABX9TyN8u2Yee/3fCvXbZ7lq1YmH",
      "include_colab_link": true
    },
    "kernelspec": {
      "name": "python3",
      "display_name": "Python 3"
    },
    "language_info": {
      "name": "python"
    }
  },
  "cells": [
    {
      "cell_type": "markdown",
      "metadata": {
        "id": "view-in-github",
        "colab_type": "text"
      },
      "source": [
        "<a href=\"https://colab.research.google.com/github/Jose-Antonio98-maker/skills-introduction-to-github/blob/main/Calcular_dobles_y_suma.ipynb\" target=\"_parent\"><img src=\"https://colab.research.google.com/assets/colab-badge.svg\" alt=\"Open In Colab\"/></a>"
      ]
    },
    {
      "cell_type": "code",
      "execution_count": null,
      "metadata": {
        "colab": {
          "base_uri": "https://localhost:8080/"
        },
        "id": "Xc893W2raKrw",
        "outputId": "29187f4c-890e-4562-cada-0bfa57e601d3"
      },
      "outputs": [
        {
          "output_type": "stream",
          "name": "stdout",
          "text": [
            "el doble del 1 = 2\n",
            "el doble del 2 = 4\n",
            "el doble del 3 = 6\n",
            "el doble del 4 = 8\n",
            "el doble del 5 = 10\n",
            "el doble del 6 = 12\n",
            "el doble del 7 = 14\n",
            "el doble del 8 = 16\n",
            "el doble del 9 = 18\n",
            "el doble del 10 = 20\n",
            "la suma de los dobles es: 110\n"
          ]
        }
      ],
      "source": [
        "def calcular_dobles_y_sumar():\n",
        "  suma_dobles = 0\n",
        "  for numero in range (1, 11):\n",
        "    resultado = numero * 2\n",
        "    print (f\"el doble del {numero} = {resultado}\")\n",
        "    suma_dobles += resultado\n",
        "  print (f\"la suma de los dobles es: {suma_dobles}\")\n",
        "\n",
        "\n",
        "calcular_dobles_y_sumar()\n",
        "\n",
        "\n",
        "\n"
      ]
    }
  ]
}