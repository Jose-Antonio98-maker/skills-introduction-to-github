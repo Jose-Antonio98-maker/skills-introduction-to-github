{
  "nbformat": 4,
  "nbformat_minor": 0,
  "metadata": {
    "colab": {
      "provenance": [],
      "authorship_tag": "ABX9TyMhYwWiOQ8ThQsYrB/2w6e0",
      "include_colab_link": true
    },
    "kernelspec": {
      "name": "python3",
      "display_name": "Python 3"
    },
    "language_info": {
      "name": "python"
    }
  },
  "cells": [
    {
      "cell_type": "markdown",
      "metadata": {
        "id": "view-in-github",
        "colab_type": "text"
      },
      "source": [
        "<a href=\"https://colab.research.google.com/github/Jose-Antonio98-maker/skills-introduction-to-github/blob/main/Inventario_artiuclos.ipynb\" target=\"_parent\"><img src=\"https://colab.research.google.com/assets/colab-badge.svg\" alt=\"Open In Colab\"/></a>"
      ]
    },
    {
      "cell_type": "code",
      "execution_count": 1,
      "metadata": {
        "colab": {
          "base_uri": "https://localhost:8080/"
        },
        "id": "Xc893W2raKrw",
        "outputId": "1636eef6-9f90-4274-db36-07be94b0abea"
      },
      "outputs": [
        {
          "output_type": "stream",
          "name": "stdout",
          "text": [
            "Bienvenido a la tienda de inventarios\n",
            "1. Ver el inventario\n",
            "2. Añadir un artículo\n",
            "3. Eliminar un artículo\n",
            "4. Salir\n",
            "\n",
            "Elige una opción (1-4): 2\n",
            "Introduce el artículo que quieres añadir al inventario: jose\n",
            "Jose ha sido añadido al inventario.\n",
            "\n",
            "Elige una opción (1-4): 1\n",
            "\n",
            "Artículos disponibles en el inventario:\n",
            "- manzanas\n",
            "- bananas\n",
            "- peras\n",
            "- naranjas\n",
            "- jose\n",
            "\n",
            "Elige una opción (1-4): 3\n",
            "Introduce el artículo que deseas eliminar del inventario: peras\n",
            "Peras ha sido eliminado del inventario.\n",
            "\n",
            "Elige una opción (1-4): q\n",
            "Por favor, introduce un número válido.\n",
            "\n",
            "Elige una opción (1-4): 1\n",
            "\n",
            "Artículos disponibles en el inventario:\n",
            "- manzanas\n",
            "- bananas\n",
            "- naranjas\n",
            "- jose\n",
            "\n",
            "Elige una opción (1-4): 4\n",
            "Saliendo del programa. ¡Hasta luego!\n",
            "Programa finalizado.\n"
          ]
        }
      ],
      "source": [
        "# Lista inicial de artículos en el inventario\n",
        "inventario = [\"manzanas\", \"bananas\", \"peras\", \"naranjas\"]\n",
        "\n",
        "# Función para mostrar el inventario\n",
        "def mostrar_inventario():\n",
        "    print(\"\\nArtículos disponibles en el inventario:\")\n",
        "    for item in inventario:\n",
        "        print(f\"- {item}\")\n",
        "\n",
        "# Función para añadir un artículo al inventario\n",
        "def agregar_articulo():\n",
        "    nuevo_item = input(\"Introduce el artículo que quieres añadir al inventario: \").lower()\n",
        "    if nuevo_item not in inventario:\n",
        "        inventario.append(nuevo_item)\n",
        "        print(f\"{nuevo_item.capitalize()} ha sido añadido al inventario.\")\n",
        "    else:\n",
        "        print(f\"{nuevo_item.capitalize()} ya está en el inventario.\")\n",
        "\n",
        "# Función para eliminar un artículo del inventario\n",
        "def eliminar_articulo():\n",
        "    item_a_eliminar = input(\"Introduce el artículo que deseas eliminar del inventario: \").lower()\n",
        "    if item_a_eliminar in inventario:\n",
        "        inventario.remove(item_a_eliminar)\n",
        "        print(f\"{item_a_eliminar.capitalize()} ha sido eliminado del inventario.\")\n",
        "    else:\n",
        "        print(f\"{item_a_eliminar.capitalize()} no está en el inventario.\")\n",
        "\n",
        "# Menú interactivo\n",
        "print(\"Bienvenido a la tienda de inventarios\")\n",
        "print(\"1. Ver el inventario\")\n",
        "print(\"2. Añadir un artículo\")\n",
        "print(\"3. Eliminar un artículo\")\n",
        "print(\"4. Salir\")\n",
        "\n",
        "opcion = 0\n",
        "while opcion != 4:\n",
        "    try:\n",
        "        opcion = int(input(\"\\nElige una opción (1-4): \"))\n",
        "        if opcion == 1:\n",
        "            mostrar_inventario()\n",
        "        elif opcion == 2:\n",
        "            agregar_articulo()\n",
        "        elif opcion == 3:\n",
        "            eliminar_articulo()\n",
        "        elif opcion == 4:\n",
        "            print(\"Saliendo del programa. ¡Hasta luego!\")\n",
        "        else:\n",
        "            print(\"Opción inválida. Por favor, elige entre 1 y 4.\")\n",
        "    except ValueError:\n",
        "        print(\"Por favor, introduce un número válido.\")\n",
        "\n",
        "print(\"Programa finalizado.\")\n",
        "\n",
        "\n"
      ]
    }
  ]
}