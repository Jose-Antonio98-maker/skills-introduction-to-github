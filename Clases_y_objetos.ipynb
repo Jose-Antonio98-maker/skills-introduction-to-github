{
  "nbformat": 4,
  "nbformat_minor": 0,
  "metadata": {
    "colab": {
      "provenance": [],
      "authorship_tag": "ABX9TyNwX8b/w5SYO6F5xHXSh+iy",
      "include_colab_link": true
    },
    "kernelspec": {
      "name": "python3",
      "display_name": "Python 3"
    },
    "language_info": {
      "name": "python"
    }
  },
  "cells": [
    {
      "cell_type": "markdown",
      "metadata": {
        "id": "view-in-github",
        "colab_type": "text"
      },
      "source": [
        "<a href=\"https://colab.research.google.com/github/Jose-Antonio98-maker/skills-introduction-to-github/blob/main/Clases_y_objetos.ipynb\" target=\"_parent\"><img src=\"https://colab.research.google.com/assets/colab-badge.svg\" alt=\"Open In Colab\"/></a>"
      ]
    },
    {
      "cell_type": "code",
      "execution_count": null,
      "metadata": {
        "colab": {
          "base_uri": "https://localhost:8080/"
        },
        "id": "kVEahGik-dY1",
        "outputId": "9b753109-22bc-4106-e283-7f36fe78b5e1"
      },
      "outputs": [
        {
          "output_type": "stream",
          "name": "stdout",
          "text": [
            "Mastin\n",
            "3\n",
            "Canis lupus familiaris\n",
            "guau, guau\n"
          ]
        }
      ],
      "source": [
        "class Perro:\n",
        "  especie = 'Canis lupus familiaris'\n",
        "\n",
        "  def __init__(self, nombre, edad):\n",
        "    self.nombre = nombre\n",
        "    self.edad = edad\n",
        "\n",
        "  def ladrar (self):\n",
        "    print (\"guau, guau\")\n",
        "\n",
        "mi_perro = Perro (\"Mastin\", 3)\n",
        "\n",
        "print (mi_perro.nombre)\n",
        "print (mi_perro.edad)\n",
        "print (mi_perro.especie)\n",
        "mi_perro.ladrar()\n",
        "\n"
      ]
    },
    {
      "cell_type": "code",
      "source": [
        "class CuentaBancaria:\n",
        "    def __init__(self, titular, saldo=0):\n",
        "      self.titular = titular\n",
        "      self.saldo = saldo\n",
        "\n",
        "    def depositar(self, monto):\n",
        "      self.saldo += monto\n",
        "      print(f\"{self.titular} ha depositado ${monto}. Saldo actual: ${self.saldo}.\")\n",
        "\n",
        "    def retirar(self, monto):\n",
        "      if monto > self.saldo:\n",
        "        print(f\"Fondos insuficientes para retirar ${monto}. Saldo actual: ${self.saldo}.\")\n",
        "      else:\n",
        "        self.saldo -= monto\n",
        "        print(f\"{self.titular} ha retirado ${monto}. Saldo actual: ${self.saldo}\")\n",
        "\n",
        "    def mostrar_info(self):\n",
        "      print (f\"Cuenta de {self.titular} tiene un saldo de ${self.saldo}.\")\n",
        "\n",
        "#Creación de objetos (cuentas bancarias)\n",
        "cuenta1 = CuentaBancaria(\"Jose\", 1000)\n",
        "cuenta2 = CuentaBancaria(\"Maria\")\n",
        "\n",
        "#Realización de operaciones\n",
        "cuenta1.mostrar_info()\n",
        "cuenta1.depositar(1000)\n",
        "cuenta1.retirar(300)\n",
        "\n",
        "cuenta2.mostrar_info()\n",
        "cuenta2.depositar(200)\n",
        "cuenta2.retirar(100)\n",
        "\n",
        "\n"
      ],
      "metadata": {
        "colab": {
          "base_uri": "https://localhost:8080/"
        },
        "collapsed": true,
        "id": "ndyBcfpOBnBO",
        "outputId": "3e2ee0ef-f21b-480d-e44e-0d8d51ae9204"
      },
      "execution_count": null,
      "outputs": [
        {
          "output_type": "stream",
          "name": "stdout",
          "text": [
            "Cuenta de Jose tiene un saldo de $1000.\n",
            "Jose ha depositado $1000. Saldo actual: $2000.\n",
            "Jose ha retirado $300. Saldo actual: $1700\n",
            "Cuenta de Maria tiene un saldo de $0.\n",
            "Maria ha depositado $200. Saldo actual: $200.\n",
            "Maria ha retirado $100. Saldo actual: $100\n"
          ]
        }
      ]
    },
    {
      "cell_type": "markdown",
      "source": [],
      "metadata": {
        "id": "hIpae_i60KgY"
      }
    },
    {
      "cell_type": "code",
      "source": [
        "class Estudiante:\n",
        "    def __init__(self, nombre, calificaciones):\n",
        "      self.nombre = nombre\n",
        "      self.calificaciones = calificaciones\n",
        "\n",
        "    def calcular_promedio(self):\n",
        "      #Calcula promedio sumando todas las calificaciones y dividiendolas entre el número total\n",
        "      return sum(self.calificaciones)/len(self.calificaciones)\n",
        "\n",
        "    def mostrar_resultados(self):\n",
        "      promedio = self.calcular_promedio()\n",
        "      #Usamos un condicional para determinar si el estudiante aprueba o reprueba\n",
        "      if promedio >= 6.0:\n",
        "        print (f\"{self.nombre} ha aprobado con un promedio de {promedio:.2f}. ¡Felicidades!\")\n",
        "      else:\n",
        "        print (f\"{self.nombre} ha reprobado con un promedio de {promedio:.2f}. Necesita mejorar\")\n",
        "\n",
        "estudiantes= [\n",
        "    Estudiante (\"Jose\", [8, 7, 9, 6]),\n",
        "    Estudiante (\"Maria\", [5, 4, 5, 6]),\n",
        "    Estudiante (\"Luis\", [10, 9, 8, 9]),\n",
        "    Estudiante (\"Ana\", [3,5,4,5])\n",
        "  ]\n",
        "\n",
        "print (\"Resultado de los estudiantes:\")\n",
        "  #Loop 'for' para recorrer la lista de los estudiantes y mostrar sus resultados\n",
        "for estudiante in estudiantes:\n",
        "    estudiante.mostrar_resultados()\n",
        "\n",
        "  #Bonus: Calculamos el porcentaje de estudiantes aprobados usando operadores lógicos\n",
        "aprobados = sum(1 for estudiante in estudiantes if estudiante.calcular_promedio() >= 6.0)\n",
        "reprobados = sum(1 for estudiante in estudiantes if estudiante.calcular_promedio() < 6.0)\n",
        "total_estudiantes = len(estudiantes)\n",
        "porcentaje_aprobados = (aprobados / total_estudiantes) * 100\n",
        "\n",
        "print (f\"\\n Total de estudiantes: {total_estudiantes}.\")\n",
        "print (f\"\\n Total aprobados: {aprobados}.\")\n",
        "print (f\"\\n Total reprobados: {reprobados}.\")\n",
        "print (f\"\\nPorcentaje de estudiantes aprobados: {porcentaje_aprobados:.2f}%\")\n",
        "\n",
        "\n"
      ],
      "metadata": {
        "id": "LjYuKrFn0LYB",
        "colab": {
          "base_uri": "https://localhost:8080/"
        },
        "outputId": "fd26401c-7e35-4e8f-d682-f1e75b2288dd"
      },
      "execution_count": 5,
      "outputs": [
        {
          "output_type": "stream",
          "name": "stdout",
          "text": [
            "Resultado de los estudiantes:\n",
            "Jose ha aprobado con un promedio de 7.50. ¡Felicidades!\n",
            "Maria ha reprobado con un promedio de 5.00. Necesita mejorar\n",
            "Luis ha aprobado con un promedio de 9.00. ¡Felicidades!\n",
            "Ana ha reprobado con un promedio de 4.25. Necesita mejorar\n",
            "\n",
            " Total de estudintes: 4.\n",
            "\n",
            " Total aprobados: 2.\n",
            "\n",
            " Total reprobados: 2.\n",
            "\n",
            "Porcentaje de estudiantes aprobados: 50.00%\n"
          ]
        }
      ]
    },
    {
      "cell_type": "markdown",
      "source": [
        "# Nueva sección"
      ],
      "metadata": {
        "id": "rK331AW6AjtW"
      }
    }
  ]
}