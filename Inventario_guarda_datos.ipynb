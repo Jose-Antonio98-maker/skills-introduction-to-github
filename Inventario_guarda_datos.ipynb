{
  "nbformat": 4,
  "nbformat_minor": 0,
  "metadata": {
    "colab": {
      "provenance": [],
      "authorship_tag": "ABX9TyO0Slg9nEIY+va3Pbwy18zQ",
      "include_colab_link": true
    },
    "kernelspec": {
      "name": "python3",
      "display_name": "Python 3"
    },
    "language_info": {
      "name": "python"
    }
  },
  "cells": [
    {
      "cell_type": "markdown",
      "metadata": {
        "id": "view-in-github",
        "colab_type": "text"
      },
      "source": [
        "<a href=\"https://colab.research.google.com/github/Jose-Antonio98-maker/skills-introduction-to-github/blob/main/Inventario_guarda_datos.ipynb\" target=\"_parent\"><img src=\"https://colab.research.google.com/assets/colab-badge.svg\" alt=\"Open In Colab\"/></a>"
      ]
    },
    {
      "cell_type": "code",
      "execution_count": 15,
      "metadata": {
        "id": "3VET6J70_TKJ",
        "colab": {
          "base_uri": "https://localhost:8080/"
        },
        "outputId": "ed8c7f66-977e-4fee-8027-21c04f105b6c",
        "collapsed": true
      },
      "outputs": [
        {
          "output_type": "stream",
          "name": "stdout",
          "text": [
            "\n",
            "Opciones:\n",
            "1. Agregar prodcuto\n",
            "2. Mostrar inventario\n",
            "3. Eliminar producto\n",
            "4. Salir\n",
            "Elige una opción:2\n",
            "\n",
            "Inventario actual:\n",
            "Producto:peras, Precio: $40.00, Cantidad: 200.\n",
            "Producto:Naranjas, Precio: $40.00, Cantidad: 100.\n",
            "\n",
            "Opciones:\n",
            "1. Agregar prodcuto\n",
            "2. Mostrar inventario\n",
            "3. Eliminar producto\n",
            "4. Salir\n",
            "Elige una opción:4\n",
            "Saliendo del programa. ¡Hasta luego!\n"
          ]
        }
      ],
      "source": [
        "from os import remove\n",
        "import json\n",
        "\n",
        "class Producto:\n",
        "  def __init__(self, nombre, precio, cantidad):\n",
        "    self.nombre = nombre\n",
        "    self.precio = precio\n",
        "    self.cantidad = cantidad\n",
        "\n",
        "  def calcular_valor_inventario(self):\n",
        "    return self.precio * self.cantidad\n",
        "\n",
        "  def to_dict(self):\n",
        "    return {\"nombre\": self.nombre, \"precio\": self.precio, \"cantidad\": self.cantidad}\n",
        "\n",
        "  @staticmethod\n",
        "  def from_dict(data):\n",
        "    return Producto(data[\"nombre\"], data [\"precio\"], data [\"cantidad\"])\n",
        "\n",
        "class Inventario:\n",
        "  def __init__(self, archivo_datos=\"inventario.json\"):\n",
        "    self.archivo_datos = archivo_datos\n",
        "    self.productos = []\n",
        "    self.cargar_datos()\n",
        "\n",
        "  def agregar_producto(self,producto):\n",
        "    self.productos.append(producto)\n",
        "    print (f\"{producto.nombre} ha sido agregado al inventario.\")\n",
        "\n",
        "  def mostrar_inventario(self):\n",
        "    if not self.productos:\n",
        "      print (\"El inventario está vacío.\")\n",
        "      return\n",
        "    print(\"\\nInventario actual:\")\n",
        "    for producto in self.productos:\n",
        "      print (f\"Producto:{producto.nombre}, Precio: ${producto.precio:.2f}, Cantidad: {producto.cantidad}.\")\n",
        "\n",
        "  def buscar_producto(self, nombre):\n",
        "    for producto in self.productos:\n",
        "        if producto.nombre.lower() == nombre.lower():\n",
        "          return producto\n",
        "    return None\n",
        "\n",
        "  def eliminar_producto(self, nombre):\n",
        "    producto = self.buscar_producto(nombre)\n",
        "    if producto:\n",
        "        self.productos.remove(producto)\n",
        "        print (f\"{nombre} ha sido eliminado del inventario.\")\n",
        "    else:\n",
        "        print (f\"{nombre} no se encuentra en el inventario.\")\n",
        "\n",
        "  def guardar_datos(self):\n",
        "    with open(self.archivo_datos, \"w\") as archivo:\n",
        "          json.dump([producto.to_dict() for producto in self.productos], archivo, indent=4)\n",
        "    print (\"Datos guardados exitosamente.\")\n",
        "\n",
        "  def cargar_datos(self):\n",
        "    try:\n",
        "        with open(self.archivo_datos, \"r\") as archivo:\n",
        "            datos = json.load(archivo)\n",
        "            self.productos = [Producto.from_dict(prod) for prod in datos]\n",
        "    except FileNotFoundError:\n",
        "          print (\"No se encontró archivo de datos previo. Iniciando inventario vacío.\")\n",
        "\n",
        "def menu():\n",
        "  inventario = Inventario()\n",
        "  while True:\n",
        "          print(\"\\nOpciones:\")\n",
        "          print(\"1. Agregar prodcuto\")\n",
        "          print(\"2. Mostrar inventario\")\n",
        "          print(\"3. Eliminar producto\")\n",
        "          print(\"4. Salir\")\n",
        "          opcion = input(\"Elige una opción:\")\n",
        "          if opcion==\"1\":\n",
        "                nombre = input(\"Nombre del producto: \")\n",
        "                precio = float(input(\"Precio del producto: \"))\n",
        "                cantidad = int(input(\"Cantidad del producto: \"))\n",
        "                producto = Producto(nombre, precio, cantidad)\n",
        "                inventario.agregar_producto(producto)\n",
        "                inventario.guardar_datos()\n",
        "          elif opcion==\"2\":\n",
        "                inventario.mostrar_inventario()\n",
        "          elif opcion==\"3\":\n",
        "                nombre = input(\"Nombre del producto a eliminar: \")\n",
        "                inventario.eliminar_producto(nombre)\n",
        "                inventario.guardar_datos()\n",
        "          elif opcion==\"4\":\n",
        "                print(\"Saliendo del programa. ¡Hasta luego!\")\n",
        "                break\n",
        "          else:\n",
        "                print(\"Opción invalida, intenta nuevamente.\")\n",
        "\n",
        "if __name__ == \"__main__\":\n",
        "      menu()\n",
        "\n",
        ""
      ]
    },
    {
      "cell_type": "code",
      "source": [],
      "metadata": {
        "id": "U662XjgvHiHv"
      },
      "execution_count": null,
      "outputs": []
    }
  ]
}